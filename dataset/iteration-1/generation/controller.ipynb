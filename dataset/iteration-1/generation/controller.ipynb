{
 "cells": [
  {
   "cell_type": "markdown",
   "metadata": {},
   "source": [
    "\\######################\n",
    "\n",
    "\\# Still not fully implemented.#\n",
    "\n",
    "\\######################\n",
    "\n",
    "\n",
    "This script is intended to operate as a controller for all the dataset generation procedures in this directory.\n"
   ]
  },
  {
   "cell_type": "markdown",
   "metadata": {},
   "source": [
    "Considerations:"
   ]
  },
  {
   "cell_type": "code",
   "execution_count": null,
   "metadata": {},
   "outputs": [],
   "source": [
    "####################\n",
    "# NOISE-GENERATION #\n",
    "####################\n",
    "\n",
    "# Generate noise\n"
   ]
  },
  {
   "cell_type": "code",
   "execution_count": null,
   "metadata": {},
   "outputs": [],
   "source": [
    "#########################\n",
    "# PRE-PROCESSING: NOISE #\n",
    "#########################\n",
    "\n",
    "# Check integrity\n",
    "# - sample rate should be consistent and match clean data\n",
    "\n",
    "\n",
    "# Attenuation"
   ]
  },
  {
   "cell_type": "code",
   "execution_count": null,
   "metadata": {},
   "outputs": [],
   "source": [
    "#########################\n",
    "# PRE-PROCESSING: CLEAN #\n",
    "#########################\n",
    "\n",
    "# Check integrity\n",
    "# - sample rate should be consistent (currently: 44.1k)\n",
    "# - number of channels should be consistent (currently: Mono)\n",
    "# - no corrupted files\n",
    "\n",
    "# Manual selection of instruments\n",
    "\n",
    "# Segmentation\n",
    "\n",
    "# Generate numpy arrays"
   ]
  },
  {
   "cell_type": "code",
   "execution_count": null,
   "metadata": {},
   "outputs": [],
   "source": [
    "#########################\n",
    "# PRE-PROCESSING: MIXED #\n",
    "#########################\n",
    "\n",
    "# Batch-mix (non-segmented clean audio with noise)\n",
    "\n",
    "# Segmentation\n",
    "\n",
    "# Generate numpy Arrays\n"
   ]
  },
  {
   "cell_type": "code",
   "execution_count": null,
   "metadata": {},
   "outputs": [],
   "source": [
    "#########\n",
    "# MODEL #\n",
    "#########\n",
    "\n",
    "# Run model"
   ]
  },
  {
   "cell_type": "code",
   "execution_count": null,
   "metadata": {},
   "outputs": [],
   "source": [
    "###################\n",
    "# POST-PROCESSING #\n",
    "###################\n",
    "\n",
    "# Convert spectrograms into segmented audio\n",
    "\n",
    "\n",
    "# Splice audio"
   ]
  }
 ],
 "metadata": {
  "language_info": {
   "name": "python"
  }
 },
 "nbformat": 4,
 "nbformat_minor": 2
}
