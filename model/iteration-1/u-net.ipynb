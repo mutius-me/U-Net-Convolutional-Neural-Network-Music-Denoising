{
 "cells": [
  {
   "cell_type": "code",
   "execution_count": 7,
   "metadata": {},
   "outputs": [
    {
     "name": "stdout",
     "output_type": "stream",
     "text": [
      "Number of loaded data pairs: 0\n"
     ]
    }
   ],
   "source": [
    "import os\n",
    "import numpy as np\n",
    "\n",
    "def load_spectrograms(count):\n",
    "    # Get the current working directory\n",
    "    current_dir = os.getcwd()\n",
    "\n",
    "    # Define the root paths for clean and noisy spectrograms using absolute paths\n",
    "    clean_root = os.path.abspath(os.path.join(current_dir, f'../../dataset/iteration-{count}/data/clean/spectrogram'))\n",
    "    noisy_root = os.path.abspath(os.path.join(current_dir, f'../../dataset/iteration-{count}/data/mixed/spectrogram'))\n",
    "\n",
    "    # Dictionary to hold associated data\n",
    "    data_pairs = []\n",
    "\n",
    "    # Walk through the directory structure\n",
    "    for subdir, dirs, files in os.walk(clean_root):\n",
    "        for file in files:\n",
    "            if file.endswith('.npy'):\n",
    "                # Generate the full path to the clean file\n",
    "                clean_path = os.path.join(subdir, file)\n",
    "\n",
    "                # Corresponding noisy file path\n",
    "                # Replace the root directory and append '_mixed' before the extension\n",
    "                noisy_path = clean_path.replace(clean_root, noisy_root).rsplit('.', 1)[0] + '_mixed.npy'\n",
    "\n",
    "                # Check if the noisy file exists\n",
    "                if os.path.exists(noisy_path):\n",
    "                    # Load the spectrograms\n",
    "                    clean_spectrogram = np.load(clean_path)\n",
    "                    noisy_spectrogram = np.load(noisy_path)\n",
    "\n",
    "                    # Append the pair (noisy, clean) to the data list\n",
    "                    data_pairs.append((noisy_spectrogram, clean_spectrogram))\n",
    "\n",
    "    return data_pairs\n",
    "\n",
    "# Example of how to set the 'count' variable and load data\n",
    "count = 1  # User can change this as needed\n",
    "data_pairs = load_spectrograms(count)\n",
    "\n",
    "# Example of how to use the data\n",
    "# Let's say you want to check the number of loaded pairs and print the shape of the first pair\n",
    "print(f\"Number of loaded data pairs: {len(data_pairs)}\")\n",
    "if data_pairs:\n",
    "    print(f\"Shape of first noisy spectrogram: {data_pairs[0][0].shape}\")\n",
    "    print(f\"Shape of first clean spectrogram: {data_pairs[0][1].shape}\")\n"
   ]
  }
 ],
 "metadata": {
  "kernelspec": {
   "display_name": "myenv",
   "language": "python",
   "name": "python3"
  },
  "language_info": {
   "codemirror_mode": {
    "name": "ipython",
    "version": 3
   },
   "file_extension": ".py",
   "mimetype": "text/x-python",
   "name": "python",
   "nbconvert_exporter": "python",
   "pygments_lexer": "ipython3",
   "version": "3.12.2"
  }
 },
 "nbformat": 4,
 "nbformat_minor": 2
}
